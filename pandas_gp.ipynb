{
 "cells": [
  {
   "cell_type": "markdown",
   "id": "26406355",
   "metadata": {},
   "source": [
    "# Pandas Guided Practice"
   ]
  },
  {
   "cell_type": "markdown",
   "id": "778539e5",
   "metadata": {},
   "source": [
    "***"
   ]
  },
  {
   "cell_type": "markdown",
   "id": "9fc6a726",
   "metadata": {},
   "source": [
    "### GP Goals\n",
    "\n",
    "For this Guided Practice we will work with the Titanic dataset, in this instance provided by uesr NotAyushXD on github.\n",
    "\n",
    "Their profile can be found here: https://github.com/NotAyushXD\n",
    "\n",
    "Our goals will be to explore basic to intermediate Pandas including:\n",
    "\n",
    "- Variable Types\n",
    "- Data Frames\n",
    "- Data Inspection\n",
    "- Data Visualization"
   ]
  },
  {
   "cell_type": "markdown",
   "id": "2e6951b3",
   "metadata": {},
   "source": [
    "## Import pandas"
   ]
  },
  {
   "cell_type": "code",
   "execution_count": 1,
   "id": "d26abf59",
   "metadata": {},
   "outputs": [],
   "source": [
    "# First import pandas with alias\n",
    "\n",
    "\n",
    "# Import dataset from url\n",
    "url = \"https://raw.githubusercontent.com/NotAyushXD/Titanic-dataset/master/train.csv\"\n"
   ]
  },
  {
   "cell_type": "markdown",
   "id": "e5ef99aa",
   "metadata": {},
   "source": [
    "One of the most important first steps when conducting data cleaning and exploration is to inspect the variable types, and identify relevant variables. When working with pandas dataframes, efficient method to use when inspecting variables is the `.head()` method which will return the first rows of a dataset."
   ]
  },
  {
   "cell_type": "code",
   "execution_count": 2,
   "id": "e57fb6a4",
   "metadata": {},
   "outputs": [],
   "source": [
    "# View first five rows of titanic dataframe\n"
   ]
  },
  {
   "cell_type": "markdown",
   "id": "8b864c52",
   "metadata": {},
   "source": [
    "When working with pandas dataframes and datasets in general it is important to make sure that variables within the dataset are associated with the appropriate data type.\n",
    "\n",
    "This will ensure that we are able to conduct analysis on our data.\n",
    "We can use the `.dtypes` accessor to view the data types associated with the variables in our dataframe. \n",
    "\n",
    "Generally speaking:\n",
    "\n",
    "| Variable Type | Typical Data Types |\n",
    "|---------------|--------------------|\n",
    "| Continuous    | `float`            |\n",
    "| Discrete      | `int`              |\n",
    "| Binary        | `bool`,`str`,`int` |\n",
    "| Nominal       | `str`,`int`        |\n",
    "| Ordinal       | `str`,`int`        |"
   ]
  },
  {
   "cell_type": "code",
   "execution_count": 3,
   "id": "80e4964f",
   "metadata": {},
   "outputs": [],
   "source": [
    "# View data types of each variable in titanic dataframe\n"
   ]
  },
  {
   "cell_type": "markdown",
   "id": "c3242152",
   "metadata": {},
   "source": [
    " In Python, there is a Pandas-specific data type for categorical variables called 'category' which makes it possible to store category names with associated values as an attribute (other languages have comparable data types, like the `factor` variable in R). The `pandas.Categorical` function will allow us to convert categorical data to this data type. \n",
    " \n",
    " Let's explore creating a ranking to the `Pclass` variable. First we can use the `.unique()` method to view the unique values within `Pclass`."
   ]
  },
  {
   "cell_type": "markdown",
   "id": "96ffd03d",
   "metadata": {},
   "source": [
    "## `.unique()` / `.nunique()`"
   ]
  },
  {
   "cell_type": "code",
   "execution_count": 4,
   "id": "83b4a3b3",
   "metadata": {},
   "outputs": [],
   "source": [
    "# View all unique values used in Pclass\n"
   ]
  },
  {
   "cell_type": "code",
   "execution_count": 5,
   "id": "aaaced7f",
   "metadata": {},
   "outputs": [],
   "source": [
    "# View count of unique values used in Pclass\n"
   ]
  },
  {
   "cell_type": "markdown",
   "id": "f51ee5aa",
   "metadata": {},
   "source": [
    "## `pd.Categorical()`"
   ]
  },
  {
   "cell_type": "markdown",
   "id": "382d5bb9",
   "metadata": {},
   "source": [
    "Let's assume the order of ranking among the values in Pclass is 3 < 2 < 1, so that 1 would represent 1st class, 2 represents 2nd class, and 3 represents 3rd class.\n",
    "\n",
    "To allow Python to understand this ranking, we can utilize the pandas.Categorical() function and sest an order to the values in the variable. Let's apply this function to the Pclass variable:"
   ]
  },
  {
   "cell_type": "code",
   "execution_count": 6,
   "id": "923ccee8",
   "metadata": {},
   "outputs": [],
   "source": [
    "# Give a ranking to the Pclass variable\n"
   ]
  },
  {
   "cell_type": "markdown",
   "id": "1c337aec",
   "metadata": {},
   "source": [
    "Now when we use the `.unique()` method applied to `Pclass` Python will inform us of the ranking within the variable:"
   ]
  },
  {
   "cell_type": "code",
   "execution_count": 7,
   "id": "c462c9f6",
   "metadata": {},
   "outputs": [],
   "source": [
    "# Check the order of the Pclass variable\n"
   ]
  },
  {
   "cell_type": "markdown",
   "id": "8ce280db",
   "metadata": {},
   "source": [
    "If we use the `dtypes` accessor again, we can see that the `Pclass` variable has a new data type as well: `categorical`:"
   ]
  },
  {
   "cell_type": "code",
   "execution_count": 8,
   "id": "34aac2bc",
   "metadata": {},
   "outputs": [],
   "source": [
    "# Review the data types of the titanic dataframe\n"
   ]
  },
  {
   "cell_type": "markdown",
   "id": "a28348fd",
   "metadata": {},
   "source": [
    "With an order to the `Pclass` variable set, we can also use the `.sort_values()` method to order the rows within our dataframe based on the ranking within `Pclass`:"
   ]
  },
  {
   "cell_type": "code",
   "execution_count": 9,
   "id": "68adab08",
   "metadata": {},
   "outputs": [],
   "source": [
    "# Sort values in titanic based on Pclass values with order applied\n"
   ]
  },
  {
   "cell_type": "markdown",
   "id": "77817145",
   "metadata": {},
   "source": [
    "When importing and exporting datasets, variables are sometimes assigned data types that don't make sense given how they are meant to be interpreted or used. \n",
    "\n",
    "For example, if age (a continuous variable) is represented as a character string, it will be impossible to perform numerical operations on it. \n",
    "\n",
    "In this case, it is important to alter data types so that models and operations can be applied in a sensical way. \n",
    "\n",
    "Here we can use the `.astype()` method to change the data type of the variable. Let's use `.astype()` on the `Age` variable to alter it from a `float` to an `int` datatype:\n"
   ]
  },
  {
   "cell_type": "code",
   "execution_count": 10,
   "id": "8f791208",
   "metadata": {},
   "outputs": [],
   "source": [
    "# Change data type of Age variable to integer\n",
    "# titanic[\"Age\"].astype(int)"
   ]
  },
  {
   "cell_type": "markdown",
   "id": "490fffe7",
   "metadata": {},
   "source": [
    "Because we are missing values, pandas is not able to convert the data type of `Age` to integer. To resolve this let's first take a look at the values within the variable:"
   ]
  },
  {
   "cell_type": "code",
   "execution_count": 11,
   "id": "77bfdc8c",
   "metadata": {},
   "outputs": [],
   "source": [
    "# View unique values in Age variable\n"
   ]
  },
  {
   "cell_type": "markdown",
   "id": "5723cddf",
   "metadata": {},
   "source": [
    "For this lab, we can manage the missing values by using the `.fillna()` method. Here we will utilize the forward fill parameter which will propagate non-null values forward to fill in any missing values:"
   ]
  },
  {
   "cell_type": "code",
   "execution_count": 12,
   "id": "8cf00aef",
   "metadata": {},
   "outputs": [],
   "source": [
    "# Fill in null values in Age variable\n"
   ]
  },
  {
   "cell_type": "markdown",
   "id": "acd6067e",
   "metadata": {},
   "source": [
    "We can check that there are no missing values by using the `.isna()` method on the variable chained with the `.any()` method:"
   ]
  },
  {
   "cell_type": "code",
   "execution_count": 13,
   "id": "93647eb6",
   "metadata": {},
   "outputs": [],
   "source": [
    "# Check for null values in Age variable\n"
   ]
  },
  {
   "cell_type": "markdown",
   "id": "f6e2cb8b",
   "metadata": {},
   "source": [
    "Great, now that we know there are no longer any null values, we should be able to change the data type:"
   ]
  },
  {
   "cell_type": "code",
   "execution_count": 14,
   "id": "0c1e77a2",
   "metadata": {},
   "outputs": [],
   "source": [
    "# Change data type of Age variable to integer\n"
   ]
  },
  {
   "cell_type": "markdown",
   "id": "d5b5bad4",
   "metadata": {},
   "source": [
    "Now our variable contains only whole numbers to represent the age of each passenger on the titanic!\n",
    "\n",
    "With this, we could plot the `Age` variable against another variable in our DataFrame."
   ]
  },
  {
   "cell_type": "code",
   "execution_count": 15,
   "id": "a4c0c7e0",
   "metadata": {},
   "outputs": [],
   "source": [
    "# create a scatterplot with Age and another variable\n",
    "# using only pandas\n"
   ]
  },
  {
   "cell_type": "code",
   "execution_count": 16,
   "id": "20a3bd77",
   "metadata": {},
   "outputs": [],
   "source": [
    "# import seaborn and matplotlib \n"
   ]
  },
  {
   "cell_type": "code",
   "execution_count": 17,
   "id": "d366d7f5",
   "metadata": {},
   "outputs": [],
   "source": [
    "# create a pairplot with seaborn\n"
   ]
  },
  {
   "cell_type": "code",
   "execution_count": 18,
   "id": "ffbdb1c5",
   "metadata": {},
   "outputs": [],
   "source": [
    "# create a heatmap\n",
    "# to view correlation between variables\n"
   ]
  },
  {
   "cell_type": "markdown",
   "id": "361bd9c3",
   "metadata": {},
   "source": [
    "## `.groupby()`"
   ]
  },
  {
   "cell_type": "markdown",
   "id": "ce656c6f",
   "metadata": {},
   "source": [
    "We can group our data by variables using the `.groupby()` method. \n",
    "\n",
    "In SQL, if we wanted to understand how many males survived, or how many females we would call something like this: \n",
    "    \n",
    "      SELECT Survived, Sex, count(*)\n",
    "      FROM titanic\n",
    "      GROUP BY Survived, Sex\n",
    "      ORDER BY Survived, Sex;   \n",
    "      \n",
    "With pandas, we can envoke this functionality with `.groupby()`."
   ]
  },
  {
   "cell_type": "code",
   "execution_count": 19,
   "id": "4ea3213b",
   "metadata": {},
   "outputs": [],
   "source": [
    "# group the data by the survived and sex variables\n",
    "# returning the count \n",
    "\n",
    "# check variable\n"
   ]
  },
  {
   "cell_type": "code",
   "execution_count": null,
   "id": "a0a6d1a8",
   "metadata": {},
   "outputs": [],
   "source": []
  }
 ],
 "metadata": {
  "kernelspec": {
   "display_name": "Python 3 (ipykernel)",
   "language": "python",
   "name": "python3"
  },
  "language_info": {
   "codemirror_mode": {
    "name": "ipython",
    "version": 3
   },
   "file_extension": ".py",
   "mimetype": "text/x-python",
   "name": "python",
   "nbconvert_exporter": "python",
   "pygments_lexer": "ipython3",
   "version": "3.9.7"
  },
  "toc": {
   "base_numbering": 1,
   "nav_menu": {},
   "number_sections": true,
   "sideBar": true,
   "skip_h1_title": false,
   "title_cell": "Table of Contents",
   "title_sidebar": "Contents",
   "toc_cell": false,
   "toc_position": {},
   "toc_section_display": true,
   "toc_window_display": true
  }
 },
 "nbformat": 4,
 "nbformat_minor": 5
}
